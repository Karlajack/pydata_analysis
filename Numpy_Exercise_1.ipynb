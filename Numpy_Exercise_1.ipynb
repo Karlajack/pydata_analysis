{
  "nbformat": 4,
  "nbformat_minor": 0,
  "metadata": {
    "colab": {
      "provenance": [],
      "authorship_tag": "ABX9TyO+SwXJvDaB79V2+zKDnF4S",
      "include_colab_link": true
    },
    "kernelspec": {
      "name": "python3",
      "display_name": "Python 3"
    },
    "language_info": {
      "name": "python"
    }
  },
  "cells": [
    {
      "cell_type": "markdown",
      "metadata": {
        "id": "view-in-github",
        "colab_type": "text"
      },
      "source": [
        "<a href=\"https://colab.research.google.com/github/Karlajack/pydata_analysis/blob/main/Numpy_Exercise_1.ipynb\" target=\"_parent\"><img src=\"https://colab.research.google.com/assets/colab-badge.svg\" alt=\"Open In Colab\"/></a>"
      ]
    },
    {
      "cell_type": "markdown",
      "source": [
        "1.Import the numpy package under the name np"
      ],
      "metadata": {
        "id": "5mxTdiOsyiOQ"
      }
    },
    {
      "cell_type": "code",
      "source": [
        "import numpy as np"
      ],
      "metadata": {
        "id": "AnPsHf01ynrT"
      },
      "execution_count": 3,
      "outputs": []
    },
    {
      "cell_type": "markdown",
      "source": [
        "2.Print the numpy version and the configuration"
      ],
      "metadata": {
        "id": "agAQDniry6EL"
      }
    },
    {
      "cell_type": "code",
      "source": [
        "np.__version__"
      ],
      "metadata": {
        "colab": {
          "base_uri": "https://localhost:8080/",
          "height": 36
        },
        "id": "rO8xrK-Vy_-m",
        "outputId": "90ced22d-1e3a-43a9-b235-aa27c119f96e"
      },
      "execution_count": null,
      "outputs": [
        {
          "output_type": "execute_result",
          "data": {
            "text/plain": [
              "'1.25.2'"
            ],
            "application/vnd.google.colaboratory.intrinsic+json": {
              "type": "string"
            }
          },
          "metadata": {},
          "execution_count": 3
        }
      ]
    },
    {
      "cell_type": "markdown",
      "source": [
        "Create a null vector of size 10"
      ],
      "metadata": {
        "id": "9vdPgtrp2jpp"
      }
    },
    {
      "cell_type": "code",
      "source": [
        "array=np.zeros(10,dtype=int)\n",
        "array\n"
      ],
      "metadata": {
        "colab": {
          "base_uri": "https://localhost:8080/"
        },
        "id": "H4dmUKgF1LGl",
        "outputId": "28a6271d-c364-487f-bb99-347ff101d31d"
      },
      "execution_count": null,
      "outputs": [
        {
          "output_type": "execute_result",
          "data": {
            "text/plain": [
              "array([0, 0, 0, 0, 0, 0, 0, 0, 0, 0])"
            ]
          },
          "metadata": {},
          "execution_count": 7
        }
      ]
    },
    {
      "cell_type": "markdown",
      "source": [
        "**How to find the memory size of any array**"
      ],
      "metadata": {
        "id": "J5Lu21hk02uM"
      }
    },
    {
      "cell_type": "code",
      "source": [
        "array.nbytes\n",
        "\n"
      ],
      "metadata": {
        "colab": {
          "base_uri": "https://localhost:8080/"
        },
        "id": "t6uTmUIn03qf",
        "outputId": "0e8fd1e5-9ba1-4a32-fec1-68b56f22f993"
      },
      "execution_count": null,
      "outputs": [
        {
          "output_type": "execute_result",
          "data": {
            "text/plain": [
              "80"
            ]
          },
          "metadata": {},
          "execution_count": 13
        }
      ]
    },
    {
      "cell_type": "markdown",
      "source": [
        " How to get the documentation of the numpy add function from the command line"
      ],
      "metadata": {
        "id": "HRF1ffnmDlzz"
      }
    },
    {
      "cell_type": "markdown",
      "source": [],
      "metadata": {
        "id": "fA3PH5A0yaHq"
      }
    },
    {
      "cell_type": "code",
      "source": [
        "(np.info(np. add))"
      ],
      "metadata": {
        "id": "OCHQm2FFDyjB",
        "outputId": "f6b98a84-8813-4206-cfae-086e2887f411",
        "colab": {
          "base_uri": "https://localhost:8080/"
        }
      },
      "execution_count": null,
      "outputs": [
        {
          "output_type": "stream",
          "name": "stdout",
          "text": [
            "add(x1, x2, /, out=None, *, where=True, casting='same_kind', order='K', dtype=None, subok=True[, signature, extobj])\n",
            "\n",
            "Add arguments element-wise.\n",
            "\n",
            "Parameters\n",
            "----------\n",
            "x1, x2 : array_like\n",
            "    The arrays to be added.\n",
            "    If ``x1.shape != x2.shape``, they must be broadcastable to a common\n",
            "    shape (which becomes the shape of the output).\n",
            "out : ndarray, None, or tuple of ndarray and None, optional\n",
            "    A location into which the result is stored. If provided, it must have\n",
            "    a shape that the inputs broadcast to. If not provided or None,\n",
            "    a freshly-allocated array is returned. A tuple (possible only as a\n",
            "    keyword argument) must have length equal to the number of outputs.\n",
            "where : array_like, optional\n",
            "    This condition is broadcast over the input. At locations where the\n",
            "    condition is True, the `out` array will be set to the ufunc result.\n",
            "    Elsewhere, the `out` array will retain its original value.\n",
            "    Note that if an uninitialized `out` array is created via the default\n",
            "    ``out=None``, locations within it where the condition is False will\n",
            "    remain uninitialized.\n",
            "**kwargs\n",
            "    For other keyword-only arguments, see the\n",
            "    :ref:`ufunc docs <ufuncs.kwargs>`.\n",
            "\n",
            "Returns\n",
            "-------\n",
            "add : ndarray or scalar\n",
            "    The sum of `x1` and `x2`, element-wise.\n",
            "    This is a scalar if both `x1` and `x2` are scalars.\n",
            "\n",
            "Notes\n",
            "-----\n",
            "Equivalent to `x1` + `x2` in terms of array broadcasting.\n",
            "\n",
            "Examples\n",
            "--------\n",
            ">>> np.add(1.0, 4.0)\n",
            "5.0\n",
            ">>> x1 = np.arange(9.0).reshape((3, 3))\n",
            ">>> x2 = np.arange(3.0)\n",
            ">>> np.add(x1, x2)\n",
            "array([[  0.,   2.,   4.],\n",
            "       [  3.,   5.,   7.],\n",
            "       [  6.,   8.,  10.]])\n",
            "\n",
            "The ``+`` operator can be used as a shorthand for ``np.add`` on ndarrays.\n",
            "\n",
            ">>> x1 = np.arange(9.0).reshape((3, 3))\n",
            ">>> x2 = np.arange(3.0)\n",
            ">>> x1 + x2\n",
            "array([[ 0.,  2.,  4.],\n",
            "       [ 3.,  5.,  7.],\n",
            "       [ 6.,  8., 10.]])\n"
          ]
        }
      ]
    },
    {
      "cell_type": "markdown",
      "source": [
        "Create a null vector of size 10 but the fifth value which is 1"
      ],
      "metadata": {
        "id": "o3sl3LJ4Er87"
      }
    },
    {
      "cell_type": "code",
      "source": [
        "array[5]=1\n",
        "print(array)"
      ],
      "metadata": {
        "id": "9xsuhbXDyvZb",
        "outputId": "85b789fa-b8ce-4cfb-fbad-8a077f37e6b0",
        "colab": {
          "base_uri": "https://localhost:8080/"
        }
      },
      "execution_count": null,
      "outputs": [
        {
          "output_type": "stream",
          "name": "stdout",
          "text": [
            "[0 0 0 0 0 1 0 0 0 0]\n"
          ]
        }
      ]
    },
    {
      "cell_type": "markdown",
      "source": [
        "Create a vector with values ranging from 10 to 49"
      ],
      "metadata": {
        "id": "MVQY3R5CGSLj"
      }
    },
    {
      "cell_type": "code",
      "source": [
        "v = np.arange(10, 50)\n",
        "v"
      ],
      "metadata": {
        "id": "Guabs-6gGWdo",
        "outputId": "f4c40019-291f-4ecb-851b-b759f586ebd3",
        "colab": {
          "base_uri": "https://localhost:8080/"
        }
      },
      "execution_count": null,
      "outputs": [
        {
          "output_type": "execute_result",
          "data": {
            "text/plain": [
              "array([10, 11, 12, 13, 14, 15, 16, 17, 18, 19, 20, 21, 22, 23, 24, 25, 26,\n",
              "       27, 28, 29, 30, 31, 32, 33, 34, 35, 36, 37, 38, 39, 40, 41, 42, 43,\n",
              "       44, 45, 46, 47, 48, 49])"
            ]
          },
          "metadata": {},
          "execution_count": 18
        }
      ]
    },
    {
      "cell_type": "markdown",
      "source": [
        "Reverse a vector (first element becomes last)"
      ],
      "metadata": {
        "id": "AB4S8QQnIAjm"
      }
    },
    {
      "cell_type": "code",
      "source": [
        "v=v[::-1]\n",
        "v"
      ],
      "metadata": {
        "id": "X3BsuwJgINeA",
        "outputId": "50bd99ab-5659-479f-9a51-2778edb4812e",
        "colab": {
          "base_uri": "https://localhost:8080/"
        }
      },
      "execution_count": null,
      "outputs": [
        {
          "output_type": "execute_result",
          "data": {
            "text/plain": [
              "array([49, 48, 47, 46, 45, 44, 43, 42, 41, 40, 39, 38, 37, 36, 35, 34, 33,\n",
              "       32, 31, 30, 29, 28, 27, 26, 25, 24, 23, 22, 21, 20, 19, 18, 17, 16,\n",
              "       15, 14, 13, 12, 11, 10])"
            ]
          },
          "metadata": {},
          "execution_count": 19
        }
      ]
    },
    {
      "cell_type": "markdown",
      "source": [
        " Create a 3x3 matrix with values ranging from 0 to 8"
      ],
      "metadata": {
        "id": "OEkYF8cGJpRl"
      }
    },
    {
      "cell_type": "code",
      "source": [
        "m = np.arange(0, 9).reshape(3, 3)\n",
        "print(m)\n"
      ],
      "metadata": {
        "id": "BDZGq3QzI2Yw",
        "outputId": "f0467b6e-edc8-40cd-b348-136a1eb954a4",
        "colab": {
          "base_uri": "https://localhost:8080/"
        }
      },
      "execution_count": null,
      "outputs": [
        {
          "output_type": "stream",
          "name": "stdout",
          "text": [
            "[[0 1 2]\n",
            " [3 4 5]\n",
            " [6 7 8]]\n"
          ]
        }
      ]
    },
    {
      "cell_type": "markdown",
      "source": [
        "Find indices of non-zero elements from [1,2,0,0,4,0]"
      ],
      "metadata": {
        "id": "RzMjyqHvI4XZ"
      }
    },
    {
      "cell_type": "markdown",
      "source": [],
      "metadata": {
        "id": "gnPZc2RAI1yq"
      }
    },
    {
      "cell_type": "code",
      "source": [
        "y=np.array([1,2,0,0,4,0])\n",
        "zero_ele =np.where(y==0)\n",
        "print(zero_ele)"
      ],
      "metadata": {
        "id": "MeMEm0OMLtU3",
        "outputId": "8748deed-f364-4349-bdca-56a6f18fa320",
        "colab": {
          "base_uri": "https://localhost:8080/"
        }
      },
      "execution_count": null,
      "outputs": [
        {
          "output_type": "stream",
          "name": "stdout",
          "text": [
            "(array([2, 3, 5]),)\n"
          ]
        }
      ]
    },
    {
      "cell_type": "markdown",
      "source": [
        "Create a 3x3 identity matrix"
      ],
      "metadata": {
        "id": "y9L_jN6_M_1C"
      }
    },
    {
      "cell_type": "code",
      "source": [
        "w=np.identity(3)\n",
        "w"
      ],
      "metadata": {
        "id": "lR-2M769NDob",
        "outputId": "0f71a2dc-9b80-4831-b69c-9276518308fd",
        "colab": {
          "base_uri": "https://localhost:8080/"
        }
      },
      "execution_count": null,
      "outputs": [
        {
          "output_type": "execute_result",
          "data": {
            "text/plain": [
              "array([[1., 0., 0.],\n",
              "       [0., 1., 0.],\n",
              "       [0., 0., 1.]])"
            ]
          },
          "metadata": {},
          "execution_count": 23
        }
      ]
    },
    {
      "cell_type": "markdown",
      "source": [
        "Create a 3x3x3 array with random values"
      ],
      "metadata": {
        "id": "aKCg1eM-NrQt"
      }
    },
    {
      "cell_type": "code",
      "source": [
        "z = np.random.random((3, 3, 3))\n",
        "z"
      ],
      "metadata": {
        "id": "bLLuTpSmNr_j",
        "outputId": "4e54363e-b553-4a47-e39d-0283994238af",
        "colab": {
          "base_uri": "https://localhost:8080/"
        }
      },
      "execution_count": null,
      "outputs": [
        {
          "output_type": "execute_result",
          "data": {
            "text/plain": [
              "array([[[0.5335466 , 0.14010826, 0.11923755],\n",
              "        [0.74684065, 0.53168463, 0.54448506],\n",
              "        [0.00893915, 0.95862027, 0.39972576]],\n",
              "\n",
              "       [[0.52452459, 0.47293956, 0.63302628],\n",
              "        [0.90677683, 0.13385221, 0.58929395],\n",
              "        [0.32145554, 0.08905595, 0.810854  ]],\n",
              "\n",
              "       [[0.67901774, 0.22384969, 0.22059219],\n",
              "        [0.07062621, 0.94177583, 0.03614413],\n",
              "        [0.72777567, 0.54780172, 0.48324413]]])"
            ]
          },
          "metadata": {},
          "execution_count": 24
        }
      ]
    },
    {
      "cell_type": "markdown",
      "source": [
        "Create a 10x10 array with random values and find the minimum and maximum values"
      ],
      "metadata": {
        "id": "-fu0cq6LOF8i"
      }
    },
    {
      "cell_type": "code",
      "source": [
        "t = np.random.random((10, 10))\n",
        "t\n",
        "\n"
      ],
      "metadata": {
        "id": "tO_WPC3JOOiV",
        "outputId": "8f51ec8e-8ffe-4993-ecc1-4775d018a96c",
        "colab": {
          "base_uri": "https://localhost:8080/"
        }
      },
      "execution_count": null,
      "outputs": [
        {
          "output_type": "execute_result",
          "data": {
            "text/plain": [
              "array([[0.02052155, 0.57789612, 0.56663975, 0.31127845, 0.24263276,\n",
              "        0.30157711, 0.11305205, 0.00686927, 0.36685554, 0.61571316],\n",
              "       [0.13530709, 0.96438783, 0.32258605, 0.31692836, 0.17364009,\n",
              "        0.51885233, 0.54787207, 0.38059313, 0.92996457, 0.62502107],\n",
              "       [0.50485513, 0.07459415, 0.59571678, 0.26873848, 0.53556046,\n",
              "        0.15261405, 0.07323367, 0.91028619, 0.71950745, 0.80923162],\n",
              "       [0.57731785, 0.1771812 , 0.63422914, 0.14652785, 0.99380958,\n",
              "        0.63555366, 0.73264218, 0.73545067, 0.81485627, 0.69352672],\n",
              "       [0.77591706, 0.5044719 , 0.27518457, 0.63947659, 0.14261937,\n",
              "        0.12584614, 0.8851797 , 0.78956974, 0.85673258, 0.39036401],\n",
              "       [0.52638225, 0.77489668, 0.51386329, 0.44749133, 0.39081395,\n",
              "        0.05772803, 0.55100236, 0.26732483, 0.83065436, 0.96509013],\n",
              "       [0.46142926, 0.99075683, 0.9682679 , 0.44366486, 0.41395783,\n",
              "        0.87185152, 0.48697623, 0.34099277, 0.59382865, 0.73905018],\n",
              "       [0.7649893 , 0.5219902 , 0.97302715, 0.60184796, 0.50471569,\n",
              "        0.85179352, 0.14492588, 0.82605977, 0.12041127, 0.86386434],\n",
              "       [0.47317849, 0.79221611, 0.35899981, 0.42106356, 0.71453554,\n",
              "        0.91475928, 0.32809064, 0.26588923, 0.17000648, 0.39727079],\n",
              "       [0.57061186, 0.9653336 , 0.43951256, 0.56796795, 0.51718269,\n",
              "        0.25559319, 0.17781602, 0.17803309, 0.26977225, 0.68492943]])"
            ]
          },
          "metadata": {},
          "execution_count": 36
        }
      ]
    },
    {
      "cell_type": "code",
      "source": [
        "min=np.min(t)\n",
        "min\n"
      ],
      "metadata": {
        "id": "DPdqVsSEPi2s",
        "outputId": "181bb194-f472-4f73-e45e-114f7ff994c8",
        "colab": {
          "base_uri": "https://localhost:8080/"
        }
      },
      "execution_count": null,
      "outputs": [
        {
          "output_type": "execute_result",
          "data": {
            "text/plain": [
              "0.006869266539336505"
            ]
          },
          "metadata": {},
          "execution_count": 37
        }
      ]
    },
    {
      "cell_type": "code",
      "source": [
        "max=np.max(t)\n",
        "max"
      ],
      "metadata": {
        "id": "i1hy3TJKPmxP",
        "outputId": "f6e92861-23bd-43c2-a775-fcc54784f16d",
        "colab": {
          "base_uri": "https://localhost:8080/"
        }
      },
      "execution_count": null,
      "outputs": [
        {
          "output_type": "execute_result",
          "data": {
            "text/plain": [
              "0.9938095812408713"
            ]
          },
          "metadata": {},
          "execution_count": 38
        }
      ]
    },
    {
      "cell_type": "markdown",
      "source": [
        " Create a random vector of size 30 and find the mean value"
      ],
      "metadata": {
        "id": "kHGXPmEJQiQb"
      }
    },
    {
      "cell_type": "code",
      "source": [
        "d=np.random.random(30)\n",
        "d"
      ],
      "metadata": {
        "id": "d0dk3kNVQmZd",
        "outputId": "67e67000-7c67-47c4-dccf-ad9d4cb1718c",
        "colab": {
          "base_uri": "https://localhost:8080/"
        }
      },
      "execution_count": 5,
      "outputs": [
        {
          "output_type": "execute_result",
          "data": {
            "text/plain": [
              "array([0.98153735, 0.96407549, 0.05754321, 0.61429215, 0.7940727 ,\n",
              "       0.81009696, 0.15141909, 0.09618948, 0.51738633, 0.08619627,\n",
              "       0.98240868, 0.69782342, 0.89308676, 0.57824606, 0.46116415,\n",
              "       0.54398021, 0.35397583, 0.47611398, 0.81996555, 0.84800315,\n",
              "       0.55244727, 0.98166475, 0.29933743, 0.02080265, 0.83922864,\n",
              "       0.08272156, 0.88795672, 0.19179194, 0.09917537, 0.49438161])"
            ]
          },
          "metadata": {},
          "execution_count": 5
        }
      ]
    },
    {
      "cell_type": "markdown",
      "source": [
        "Create a random vector of size 30 and find the mean value"
      ],
      "metadata": {
        "id": "xmJViFPsNnyB"
      }
    },
    {
      "cell_type": "code",
      "source": [
        "mean=np.mean(d)\n",
        "print (mean)"
      ],
      "metadata": {
        "id": "rFK9uCgaNvUf",
        "outputId": "aff4b39f-3a2c-427b-c9ee-0fb23771dc00",
        "colab": {
          "base_uri": "https://localhost:8080/"
        }
      },
      "execution_count": 6,
      "outputs": [
        {
          "output_type": "stream",
          "name": "stdout",
          "text": [
            "0.539236158462856\n"
          ]
        }
      ]
    },
    {
      "cell_type": "markdown",
      "source": [
        "Create a 2d array with 1 on the border and 0 inside"
      ],
      "metadata": {
        "id": "VBEyS1y8OYaC"
      }
    },
    {
      "cell_type": "code",
      "source": [
        "p= np.ones((6, 6))\n",
        "print(p)"
      ],
      "metadata": {
        "id": "NTBWkj-3PPuO",
        "outputId": "9eec72aa-6219-42ee-a265-c4241826ca03",
        "colab": {
          "base_uri": "https://localhost:8080/"
        }
      },
      "execution_count": 22,
      "outputs": [
        {
          "output_type": "stream",
          "name": "stdout",
          "text": [
            "[[1. 1. 1. 1. 1. 1.]\n",
            " [1. 1. 1. 1. 1. 1.]\n",
            " [1. 1. 1. 1. 1. 1.]\n",
            " [1. 1. 1. 1. 1. 1.]\n",
            " [1. 1. 1. 1. 1. 1.]\n",
            " [1. 1. 1. 1. 1. 1.]]\n"
          ]
        }
      ]
    },
    {
      "cell_type": "code",
      "source": [
        "p[1:-1,1:-1] = 0\n",
        "print(p)"
      ],
      "metadata": {
        "id": "mBajunJ8QC51",
        "outputId": "a0fc17d7-eba1-44aa-be53-7e855dbd8f72",
        "colab": {
          "base_uri": "https://localhost:8080/"
        }
      },
      "execution_count": 23,
      "outputs": [
        {
          "output_type": "stream",
          "name": "stdout",
          "text": [
            "[[1. 1. 1. 1. 1. 1.]\n",
            " [1. 0. 0. 0. 0. 1.]\n",
            " [1. 0. 0. 0. 0. 1.]\n",
            " [1. 0. 0. 0. 0. 1.]\n",
            " [1. 0. 0. 0. 0. 1.]\n",
            " [1. 1. 1. 1. 1. 1.]]\n"
          ]
        }
      ]
    }
  ]
}