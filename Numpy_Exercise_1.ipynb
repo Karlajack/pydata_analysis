{
  "nbformat": 4,
  "nbformat_minor": 0,
  "metadata": {
    "colab": {
      "provenance": [],
      "authorship_tag": "ABX9TyNDY9nI5JO2t31yRQxdQZ91",
      "include_colab_link": true
    },
    "kernelspec": {
      "name": "python3",
      "display_name": "Python 3"
    },
    "language_info": {
      "name": "python"
    }
  },
  "cells": [
    {
      "cell_type": "markdown",
      "metadata": {
        "id": "view-in-github",
        "colab_type": "text"
      },
      "source": [
        "<a href=\"https://colab.research.google.com/github/Karlajack/pydata_analysis/blob/main/Numpy_Exercise_1.ipynb\" target=\"_parent\"><img src=\"https://colab.research.google.com/assets/colab-badge.svg\" alt=\"Open In Colab\"/></a>"
      ]
    },
    {
      "cell_type": "markdown",
      "source": [
        "1.Import the numpy package under the name np"
      ],
      "metadata": {
        "id": "5mxTdiOsyiOQ"
      }
    },
    {
      "cell_type": "code",
      "source": [
        "import numpy as np"
      ],
      "metadata": {
        "id": "AnPsHf01ynrT"
      },
      "execution_count": 1,
      "outputs": []
    },
    {
      "cell_type": "markdown",
      "source": [
        "2.Print the numpy version and the configuration"
      ],
      "metadata": {
        "id": "agAQDniry6EL"
      }
    },
    {
      "cell_type": "code",
      "source": [
        "np.__version__"
      ],
      "metadata": {
        "colab": {
          "base_uri": "https://localhost:8080/",
          "height": 36
        },
        "id": "rO8xrK-Vy_-m",
        "outputId": "90ced22d-1e3a-43a9-b235-aa27c119f96e"
      },
      "execution_count": 3,
      "outputs": [
        {
          "output_type": "execute_result",
          "data": {
            "text/plain": [
              "'1.25.2'"
            ],
            "application/vnd.google.colaboratory.intrinsic+json": {
              "type": "string"
            }
          },
          "metadata": {},
          "execution_count": 3
        }
      ]
    },
    {
      "cell_type": "markdown",
      "source": [
        "Create a null vector of size 10"
      ],
      "metadata": {
        "id": "9vdPgtrp2jpp"
      }
    },
    {
      "cell_type": "code",
      "source": [
        "array=np.zeros(10,dtype=int)\n",
        "array\n"
      ],
      "metadata": {
        "colab": {
          "base_uri": "https://localhost:8080/"
        },
        "id": "H4dmUKgF1LGl",
        "outputId": "f5b480a2-04b3-41f2-afcc-6d0c8e33a617"
      },
      "execution_count": 8,
      "outputs": [
        {
          "output_type": "execute_result",
          "data": {
            "text/plain": [
              "array([0, 0, 0, 0, 0, 0, 0, 0, 0, 0])"
            ]
          },
          "metadata": {},
          "execution_count": 8
        }
      ]
    },
    {
      "cell_type": "markdown",
      "source": [
        "**How to find the memory size of any array**"
      ],
      "metadata": {
        "id": "J5Lu21hk02uM"
      }
    },
    {
      "cell_type": "code",
      "source": [
        "array.nbytes\n",
        "\n"
      ],
      "metadata": {
        "colab": {
          "base_uri": "https://localhost:8080/"
        },
        "id": "t6uTmUIn03qf",
        "outputId": "0e8fd1e5-9ba1-4a32-fec1-68b56f22f993"
      },
      "execution_count": 13,
      "outputs": [
        {
          "output_type": "execute_result",
          "data": {
            "text/plain": [
              "80"
            ]
          },
          "metadata": {},
          "execution_count": 13
        }
      ]
    },
    {
      "cell_type": "markdown",
      "source": [],
      "metadata": {
        "id": "fA3PH5A0yaHq"
      }
    },
    {
      "cell_type": "code",
      "source": [],
      "metadata": {
        "id": "9xsuhbXDyvZb"
      },
      "execution_count": null,
      "outputs": []
    }
  ]
}