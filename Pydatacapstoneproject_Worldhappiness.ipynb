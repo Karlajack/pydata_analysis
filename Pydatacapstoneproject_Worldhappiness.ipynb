{
  "nbformat": 4,
  "nbformat_minor": 0,
  "metadata": {
    "colab": {
      "provenance": [],
      "authorship_tag": "ABX9TyOkLUYjyky9cUr2fktajmC8",
      "include_colab_link": true
    },
    "kernelspec": {
      "name": "python3",
      "display_name": "Python 3"
    },
    "language_info": {
      "name": "python"
    }
  },
  "cells": [
    {
      "cell_type": "markdown",
      "metadata": {
        "id": "view-in-github",
        "colab_type": "text"
      },
      "source": [
        "<a href=\"https://colab.research.google.com/github/Karlajack/pydata_analysis/blob/main/Pydatacapstoneproject_Worldhappiness.ipynb\" target=\"_parent\"><img src=\"https://colab.research.google.com/assets/colab-badge.svg\" alt=\"Open In Colab\"/></a>"
      ]
    },
    {
      "cell_type": "code",
      "execution_count": 5,
      "metadata": {
        "id": "wbSHNzy8dXdT"
      },
      "outputs": [],
      "source": [
        "import pandas as pd\n",
        "import numpy as np\n",
        "import matplotlib.pyplot as plt\n",
        "import seaborn as sns\n",
        "import geopandas as gpd\n",
        "import geoplot as gplt\n",
        "import mapclassify as mc"
      ]
    },
    {
      "cell_type": "code",
      "source": [],
      "metadata": {
        "id": "y61OvSRVd_D7"
      },
      "execution_count": null,
      "outputs": []
    }
  ]
}